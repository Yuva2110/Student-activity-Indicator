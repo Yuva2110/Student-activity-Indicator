{
 "cells": [
  {
   "cell_type": "code",
   "execution_count": 3,
   "metadata": {},
   "outputs": [
    {
     "name": "stdout",
     "output_type": "stream",
     "text": [
      "Collecting pyarrow\n",
      "  Downloading pyarrow-15.0.0-cp312-cp312-win_amd64.whl.metadata (3.1 kB)\n",
      "Requirement already satisfied: numpy<2,>=1.16.6 in c:\\users\\yuvak\\desktop\\projects\\mlproject\\venv\\lib\\site-packages (from pyarrow) (1.26.4)\n",
      "Downloading pyarrow-15.0.0-cp312-cp312-win_amd64.whl (25.3 MB)\n",
      "   ---------------------------------------- 0.0/25.3 MB ? eta -:--:--\n",
      "   ---------------------------------------- 0.0/25.3 MB ? eta -:--:--\n",
      "   ---------------------------------------- 0.0/25.3 MB ? eta -:--:--\n",
      "   ---------------------------------------- 0.0/25.3 MB 330.3 kB/s eta 0:01:17\n",
      "   ---------------------------------------- 0.0/25.3 MB 281.8 kB/s eta 0:01:30\n",
      "   ---------------------------------------- 0.1/25.3 MB 525.1 kB/s eta 0:00:48\n",
      "   ---------------------------------------- 0.2/25.3 MB 857.5 kB/s eta 0:00:30\n",
      "    --------------------------------------- 0.4/25.3 MB 1.4 MB/s eta 0:00:18\n",
      "    --------------------------------------- 0.5/25.3 MB 1.8 MB/s eta 0:00:15\n",
      "   - -------------------------------------- 0.8/25.3 MB 2.2 MB/s eta 0:00:12\n",
      "   - -------------------------------------- 1.1/25.3 MB 2.7 MB/s eta 0:00:10\n",
      "   -- ------------------------------------- 1.7/25.3 MB 3.9 MB/s eta 0:00:07\n",
      "   ---- ----------------------------------- 3.2/25.3 MB 6.5 MB/s eta 0:00:04\n",
      "   -------- ------------------------------- 5.2/25.3 MB 9.6 MB/s eta 0:00:03\n",
      "   ------------- -------------------------- 8.4/25.3 MB 14.5 MB/s eta 0:00:02\n",
      "   ------------- -------------------------- 8.4/25.3 MB 14.5 MB/s eta 0:00:02\n",
      "   -------------- ------------------------- 8.9/25.3 MB 12.9 MB/s eta 0:00:02\n",
      "   ------------------ --------------------- 11.5/25.3 MB 29.8 MB/s eta 0:00:01\n",
      "   ------------------ --------------------- 11.7/25.3 MB 31.2 MB/s eta 0:00:01\n",
      "   ----------------------- ---------------- 14.6/25.3 MB 31.2 MB/s eta 0:00:01\n",
      "   --------------------------- ------------ 17.5/25.3 MB 31.1 MB/s eta 0:00:01\n",
      "   -------------------------------- ------- 20.5/25.3 MB 43.7 MB/s eta 0:00:01\n",
      "   ------------------------------------ --- 23.1/25.3 MB 59.5 MB/s eta 0:00:01\n",
      "   ---------------------------------------  25.3/25.3 MB 54.7 MB/s eta 0:00:01\n",
      "   ---------------------------------------  25.3/25.3 MB 54.7 MB/s eta 0:00:01\n",
      "   ---------------------------------------  25.3/25.3 MB 54.7 MB/s eta 0:00:01\n",
      "   ---------------------------------------- 25.3/25.3 MB 34.4 MB/s eta 0:00:00\n",
      "Installing collected packages: pyarrow\n",
      "Successfully installed pyarrow-15.0.0\n",
      "Note: you may need to restart the kernel to use updated packages.\n"
     ]
    }
   ],
   "source": [
    "pip install pyarrow"
   ]
  },
  {
   "cell_type": "code",
   "execution_count": 4,
   "metadata": {},
   "outputs": [],
   "source": [
    "import pyarrow\n",
    "import pandas as pd"
   ]
  },
  {
   "cell_type": "markdown",
   "metadata": {},
   "source": [
    "## Problem Statement\n",
    "    This project understands how the student's performance(test scores ) is affected by other variables such as  gender,ethnicity,parental level of education,lunch and test preparation"
   ]
  },
  {
   "cell_type": "markdown",
   "metadata": {},
   "source": [
    "## Data Collection\n",
    "    *Data Source*: kaggle \n",
    "    "
   ]
  },
  {
   "cell_type": "code",
   "execution_count": null,
   "metadata": {},
   "outputs": [],
   "source": []
  }
 ],
 "metadata": {
  "kernelspec": {
   "display_name": "Python 3",
   "language": "python",
   "name": "python3"
  },
  "language_info": {
   "codemirror_mode": {
    "name": "ipython",
    "version": 3
   },
   "file_extension": ".py",
   "mimetype": "text/x-python",
   "name": "python",
   "nbconvert_exporter": "python",
   "pygments_lexer": "ipython3",
   "version": "3.12.1"
  }
 },
 "nbformat": 4,
 "nbformat_minor": 2
}
